{
    "cells": [
        {
            "cell_type": "markdown",
            "metadata": {},
            "source": [
                "### Libraries"
            ]
        },
        {
            "cell_type": "code",
            "execution_count": 61,
            "metadata": {},
            "outputs": [],
            "source": [
                "import duckdb\n",
                "from duckdb import DuckDBPyConnection"
            ]
        },
        {
            "cell_type": "markdown",
            "metadata": {},
            "source": [
                "### Global Variables"
            ]
        },
        {
            "cell_type": "code",
            "execution_count": 62,
            "metadata": {},
            "outputs": [],
            "source": [
                "DUCK_DB: str = \"include/database/duck.db\"\n",
                "STATIONS_DDL: str = \"include/sql/weather/stations_table_ddl.sql\"\n",
                "WEATHER_OBS_DDL: str = \"include/sql/weather/weather_obs_table_ddl.sql\"\n",
                "AVG_TEMP_LAST_WEEK: str = \"include/sql/weather/avg_temp_last_week.sql\"\n",
                "MAX_WIND_CHANGE_LAST_WEEK: str = \"include/sql/weather/max_wind_change_last_week.sql\""
            ]
        },
        {
            "cell_type": "markdown",
            "metadata": {},
            "source": [
                "### Dabase"
            ]
        },
        {
            "cell_type": "markdown",
            "metadata": {},
            "source": [
                "#### Create database"
            ]
        },
        {
            "cell_type": "markdown",
            "metadata": {},
            "source": [
                "The following command will create the database file, make sure that after you run it you have the file `duck.db` under this path:\n",
                "*  `include/database`\n",
                "\n",
                "When that command run for the first time, if the file doesn't exist will create a new one. If exist it will connect to that file."
            ]
        },
        {
            "cell_type": "code",
            "execution_count": 63,
            "metadata": {},
            "outputs": [],
            "source": [
                "con: DuckDBPyConnection = duckdb.connect(DUCK_DB)"
            ]
        },
        {
            "cell_type": "markdown",
            "metadata": {},
            "source": [
                "### DDL"
            ]
        },
        {
            "cell_type": "markdown",
            "metadata": {},
            "source": [
                "#### stations table"
            ]
        },
        {
            "cell_type": "code",
            "execution_count": 68,
            "metadata": {},
            "outputs": [
                {
                    "name": "stdout",
                    "output_type": "stream",
                    "text": [
                        "Executing query: \n",
                        " CREATE OR REPLACE TABLE stations (\n",
                        "    station_id VARCHAR PRIMARY KEY,\n",
                        "    station_name VARCHAR,\n",
                        "    station_timezone VARCHAR\n",
                        ");\n",
                        "\n",
                        "Done :)\n"
                    ]
                }
            ],
            "source": [
                "with duckdb.connect(DUCK_DB) as con:\n",
                "    with open(STATIONS_DDL) as file:\n",
                "        sql_query: str = file.read()\n",
                "        print(f\"Executing query: \\n {sql_query}\")\n",
                "        con.query(query=sql_query)\n",
                "        print(\"Done :)\")"
            ]
        },
        {
            "cell_type": "markdown",
            "metadata": {},
            "source": [
                "#### weather_obs table"
            ]
        },
        {
            "cell_type": "code",
            "execution_count": 69,
            "metadata": {},
            "outputs": [
                {
                    "name": "stdout",
                    "output_type": "stream",
                    "text": [
                        "Executing query: \n",
                        " CREATE OR REPLACE TABLE weather_obs (\n",
                        "    station_id VARCHAR,\n",
                        "    latitude DOUBLE,\n",
                        "    longitude DOUBLE,\n",
                        "    observation_timestamp TIMESTAMP,\n",
                        "    temperature DOUBLE,\n",
                        "    wind_speed DOUBLE,\n",
                        "    humidity DOUBLE\n",
                        ");\n",
                        "\n",
                        "Done :)\n"
                    ]
                }
            ],
            "source": [
                "with duckdb.connect(DUCK_DB) as con:\n",
                "    with open(WEATHER_OBS_DDL) as file:\n",
                "        sql_query: str = file.read()\n",
                "        print(f\"Executing query: \\n {sql_query}\")\n",
                "        con.query(query=sql_query)\n",
                "        print(\"Done :)\")"
            ]
        },
        {
            "cell_type": "markdown",
            "metadata": {},
            "source": [
                "### Analytic"
            ]
        },
        {
            "cell_type": "markdown",
            "metadata": {},
            "source": [
                "#### Average temp last 7 days"
            ]
        },
        {
            "cell_type": "code",
            "execution_count": 41,
            "metadata": {},
            "outputs": [
                {
                    "name": "stdout",
                    "output_type": "stream",
                    "text": [
                        "Executing query: \n",
                        " SELECT\n",
                        "    stations.station_id,\n",
                        "    station_name,\n",
                        "    AVG(temperature) AS average_temperature\n",
                        "FROM\n",
                        "    weather_obs\n",
                        "INNER JOIN\n",
                        "    stations\n",
                        "ON weather_obs.station_id = stations.station_id\n",
                        "WHERE\n",
                        "    observation_timestamp BETWEEN (current_date() - INTERVAL 7 DAY) AND current_date()\n",
                        "GROUP BY\n",
                        "    1,2;\n",
                        "Result of the sql query: \n",
                        "\u250c\u2500\u2500\u2500\u2500\u2500\u2500\u2500\u2500\u2500\u2500\u2500\u2500\u252c\u2500\u2500\u2500\u2500\u2500\u2500\u2500\u2500\u2500\u2500\u2500\u2500\u2500\u2500\u2500\u2500\u2500\u2500\u2500\u2500\u2500\u2500\u2500\u252c\u2500\u2500\u2500\u2500\u2500\u2500\u2500\u2500\u2500\u2500\u2500\u2500\u2500\u2500\u2500\u2500\u2500\u2500\u2500\u2500\u2500\u2510\n",
                        "\u2502 station_id \u2502     station_name      \u2502 average_temperature \u2502\n",
                        "\u2502  varchar   \u2502        varchar        \u2502       double        \u2502\n",
                        "\u251c\u2500\u2500\u2500\u2500\u2500\u2500\u2500\u2500\u2500\u2500\u2500\u2500\u253c\u2500\u2500\u2500\u2500\u2500\u2500\u2500\u2500\u2500\u2500\u2500\u2500\u2500\u2500\u2500\u2500\u2500\u2500\u2500\u2500\u2500\u2500\u2500\u253c\u2500\u2500\u2500\u2500\u2500\u2500\u2500\u2500\u2500\u2500\u2500\u2500\u2500\u2500\u2500\u2500\u2500\u2500\u2500\u2500\u2500\u2524\n",
                        "\u2502 0112W      \u2502 Lafayette High School \u2502  26.461569965870307 \u2502\n",
                        "\u2514\u2500\u2500\u2500\u2500\u2500\u2500\u2500\u2500\u2500\u2500\u2500\u2500\u2534\u2500\u2500\u2500\u2500\u2500\u2500\u2500\u2500\u2500\u2500\u2500\u2500\u2500\u2500\u2500\u2500\u2500\u2500\u2500\u2500\u2500\u2500\u2500\u2534\u2500\u2500\u2500\u2500\u2500\u2500\u2500\u2500\u2500\u2500\u2500\u2500\u2500\u2500\u2500\u2500\u2500\u2500\u2500\u2500\u2500\u2518\n",
                        "\n"
                    ]
                }
            ],
            "source": [
                "with duckdb.connect(DUCK_DB) as con:\n",
                "    with open(AVG_TEMP_LAST_WEEK) as file:\n",
                "        sql_query: str = file.read()\n",
                "        print(f\"Executing query: \\n {sql_query}\")\n",
                "        result = con.query(query=sql_query)\n",
                "        print(\"Result of the sql query: \")\n",
                "        print(result)"
            ]
        },
        {
            "cell_type": "markdown",
            "metadata": {},
            "source": [
                "#### Maximum wind speed change"
            ]
        },
        {
            "cell_type": "code",
            "execution_count": 70,
            "metadata": {},
            "outputs": [
                {
                    "name": "stdout",
                    "output_type": "stream",
                    "text": [
                        "Executing query: \n",
                        " WITH lagged_data AS (\n",
                        "  SELECT\n",
                        "    stations.station_id,\n",
                        "    station_name,\n",
                        "    wind_speed,\n",
                        "    LAG(wind_speed) OVER (ORDER BY observation_timestamp) AS previous_wind_speed\n",
                        "  FROM\n",
                        "    weather_obs\n",
                        "  INNER JOIN\n",
                        "    stations\n",
                        "  ON weather_obs.station_id = stations.station_id\n",
                        "  WHERE\n",
                        "    observation_timestamp BETWEEN (CURRENT_DATE() - INTERVAL 7 DAY) AND CURRENT_DATE()\n",
                        ")\n",
                        "SELECT\n",
                        "  station_id,\n",
                        "  station_name,\n",
                        "  ROUND(MAX(ABS((wind_speed - previous_wind_speed))), 2) AS max_wind_speed_change\n",
                        "FROM\n",
                        "  lagged_data\n",
                        "GROUP BY 1,2;\n",
                        "\n",
                        "Result of the sql query: \n",
                        "\u250c\u2500\u2500\u2500\u2500\u2500\u2500\u2500\u2500\u2500\u2500\u2500\u2500\u252c\u2500\u2500\u2500\u2500\u2500\u2500\u2500\u2500\u2500\u2500\u2500\u2500\u2500\u2500\u252c\u2500\u2500\u2500\u2500\u2500\u2500\u2500\u2500\u2500\u2500\u2500\u2500\u2500\u2500\u2500\u2500\u2500\u2500\u2500\u2500\u2500\u2500\u2500\u2510\n",
                        "\u2502 station_id \u2502 station_name \u2502 max_wind_speed_change \u2502\n",
                        "\u2502  varchar   \u2502   varchar    \u2502        double         \u2502\n",
                        "\u251c\u2500\u2500\u2500\u2500\u2500\u2500\u2500\u2500\u2500\u2500\u2500\u2500\u2534\u2500\u2500\u2500\u2500\u2500\u2500\u2500\u2500\u2500\u2500\u2500\u2500\u2500\u2500\u2534\u2500\u2500\u2500\u2500\u2500\u2500\u2500\u2500\u2500\u2500\u2500\u2500\u2500\u2500\u2500\u2500\u2500\u2500\u2500\u2500\u2500\u2500\u2500\u2524\n",
                        "\u2502                      0 rows                       \u2502\n",
                        "\u2514\u2500\u2500\u2500\u2500\u2500\u2500\u2500\u2500\u2500\u2500\u2500\u2500\u2500\u2500\u2500\u2500\u2500\u2500\u2500\u2500\u2500\u2500\u2500\u2500\u2500\u2500\u2500\u2500\u2500\u2500\u2500\u2500\u2500\u2500\u2500\u2500\u2500\u2500\u2500\u2500\u2500\u2500\u2500\u2500\u2500\u2500\u2500\u2500\u2500\u2500\u2500\u2518\n",
                        "\n"
                    ]
                }
            ],
            "source": [
                "with duckdb.connect(DUCK_DB) as con:\n",
                "    with open(MAX_WIND_CHANGE_LAST_WEEK) as file:\n",
                "        sql_query: str = file.read()\n",
                "        print(f\"Executing query: \\n {sql_query}\")\n",
                "        result = con.query(query=sql_query)\n",
                "        print(\"Result of the sql query: \")\n",
                "        print(result)"
            ]
        },
        {
            "cell_type": "code",
            "execution_count": null,
            "metadata": {},
            "outputs": [],
            "source": []
        }
    ],
    "metadata": {
        "kernelspec": {
            "display_name": "airflow-astronomer",
            "language": "python",
            "name": "python3"
        },
        "language_info": {
            "codemirror_mode": {
                "name": "ipython",
                "version": 3
            },
            "file_extension": ".py",
            "mimetype": "text/x-python",
            "name": "python",
            "nbconvert_exporter": "python",
            "pygments_lexer": "ipython3",
            "version": "3.8.12"
        }
    },
    "nbformat": 4,
    "nbformat_minor": 2
}
